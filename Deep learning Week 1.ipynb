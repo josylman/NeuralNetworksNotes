{
 "cells": [
  {
   "cell_type": "markdown",
   "metadata": {},
   "source": [
    "# Introduction"
   ]
  },
  {
   "cell_type": "markdown",
   "metadata": {},
   "source": [
    "- Neural Networks and Deep Learning\n",
    "- Improving neural networks, hyperparameters, regularization and optimization\n",
    "- Structuring your machine learning project (train/dev/test) end to end deep learning\n",
    "- Convolutional Neural Networks (CNNs) applied to images\n",
    "- Nautral Language PRocessing, Build sequence models, RNNs, LSTM\n",
    "\n",
    "- ReLU does not go lower than zero\n",
    "\n"
   ]
  },
  {
   "cell_type": "markdown",
   "metadata": {},
   "source": [
    "### Neural networks\n"
   ]
  },
  {
   "cell_type": "markdown",
   "metadata": {},
   "source": [
    "- x is four inputs\n",
    "- y is the price you are trying to predict\n",
    "- input x and outputs y\n",
    "- neural networks can decide what the hidden layers are\n"
   ]
  },
  {
   "cell_type": "markdown",
   "metadata": {},
   "source": [
    "## Supervised Learning"
   ]
  },
  {
   "cell_type": "markdown",
   "metadata": {},
   "source": [
    "- online advertising, info about an ad, and info user, will see if you click on an ad\n",
    "- Computer vision also has made strides \n",
    "- Using RNNS for language processes\n",
    "- Use CNNS for photo tagging\n",
    "- Structured data, databases of data, advertising systems\n",
    "- Unstructured data, each of the features, audio or images, text\n",
    "- performance plateaus once amount of data increases\n",
    "- now have a lot of data thanks to digitization, \n",
    "- a larger neural net keeps getting better and better with the more neural net, but need scale in order to drive the progress\n",
    "- if you don't have a lot of data, only in large regimes, see larger datasets taking off\n",
    "- switching from sigmoid functions versus relue because really slow learning when the slope is really small on the ends\n"
   ]
  },
  {
   "cell_type": "markdown",
   "metadata": {},
   "source": [
    "<img src=\"files/Desktop/Screen Shot 2017-09-07 at 4.32.42 PM.png\">"
   ]
  },
  {
   "cell_type": "markdown",
   "metadata": {},
   "source": [
    "## Outline of Course"
   ]
  },
  {
   "cell_type": "markdown",
   "metadata": {},
   "source": [
    "- Introduction\n",
    "- Basics of Neural Network programming\n",
    "- One hidden layer Neural Network\n",
    "- Deep Neural Network"
   ]
  },
  {
   "cell_type": "code",
   "execution_count": null,
   "metadata": {
    "collapsed": true
   },
   "outputs": [],
   "source": []
  }
 ],
 "metadata": {
  "kernelspec": {
   "display_name": "Python 3",
   "language": "python",
   "name": "python3"
  },
  "language_info": {
   "codemirror_mode": {
    "name": "ipython",
    "version": 3
   },
   "file_extension": ".py",
   "mimetype": "text/x-python",
   "name": "python",
   "nbconvert_exporter": "python",
   "pygments_lexer": "ipython3",
   "version": "3.6.0"
  }
 },
 "nbformat": 4,
 "nbformat_minor": 2
}
